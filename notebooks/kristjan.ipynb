{
 "cells": [
  {
   "cell_type": "code",
   "execution_count": 68,
   "metadata": {},
   "outputs": [],
   "source": [
    "import pandas as pd\n",
    "import numpy as np\n",
    "from sklearn.model_selection import train_test_split\n",
    "from tensorflow.keras import models\n",
    "from tensorflow.keras import layers\n",
    "import matplotlib.pyplot as plt\n",
    "import\n"
   ]
  },
  {
   "cell_type": "code",
   "execution_count": 34,
   "metadata": {},
   "outputs": [],
   "source": [
    "def initialize_model():\n",
    "\n",
    "    #############################\n",
    "    #  1 - Model architecture   #\n",
    "    #############################\n",
    "\n",
    "    # $CHALLENGIFY_BEGIN\n",
    "    model = models.Sequential()\n",
    "    model.add(layers.Dense(5, input_dim=5, activation='relu'))\n",
    "    model.add(layers.Dense(1, activation='softmax'))\n",
    "    # $CHALLENGIFY_END\n",
    "\n",
    "    #############################\n",
    "    #  2 - Optimization Method  #\n",
    "    #############################\n",
    "    model.compile(loss='categorical_crossentropy', # We've already mentioned this loss function in Logistic Regression\n",
    "                  optimizer='adam', # Optimizer in Deep Learning = solver in Machine Learning | Adam = our best friend\n",
    "                  metrics=['accuracy']) # Let's focus on the accuracy, our dataset is balanced\n",
    "\n",
    "    return model\n",
    "\n",
    "model = initialize_model()\n"
   ]
  },
  {
   "cell_type": "code",
   "execution_count": 35,
   "metadata": {},
   "outputs": [
    {
     "name": "stdout",
     "output_type": "stream",
     "text": [
      "Model: \"sequential_3\"\n",
      "_________________________________________________________________\n",
      " Layer (type)                Output Shape              Param #   \n",
      "=================================================================\n",
      " dense_6 (Dense)             (None, 5)                 30        \n",
      "                                                                 \n",
      " dense_7 (Dense)             (None, 1)                 6         \n",
      "                                                                 \n",
      "=================================================================\n",
      "Total params: 36 (144.00 Byte)\n",
      "Trainable params: 36 (144.00 Byte)\n",
      "Non-trainable params: 0 (0.00 Byte)\n",
      "_________________________________________________________________\n"
     ]
    }
   ],
   "source": [
    "model.summary()\n"
   ]
  },
  {
   "cell_type": "code",
   "execution_count": 36,
   "metadata": {},
   "outputs": [],
   "source": [
    "f1 = np.linspace(0,1,50)\n",
    "f2 = np.linspace(1,2,50)\n",
    "f3 = np.linspace(0,2,50)\n",
    "f4 = np.linspace(1,2,50)\n",
    "f5 = np.linspace(0,0.5,50)\n"
   ]
  },
  {
   "cell_type": "code",
   "execution_count": 37,
   "metadata": {},
   "outputs": [],
   "source": [
    "# 5 features\n",
    "\n",
    "X = pd.DataFrame({\n",
    "    \"f1\": f1,\n",
    "    \"f2\": f2,\n",
    "    \"f3\": f3,\n",
    "    \"f4\": f4,\n",
    "    \"f5\": f5\n",
    "})\n"
   ]
  },
  {
   "cell_type": "code",
   "execution_count": 38,
   "metadata": {},
   "outputs": [
    {
     "data": {
      "text/plain": [
       "((50,), (50, 5))"
      ]
     },
     "execution_count": 38,
     "metadata": {},
     "output_type": "execute_result"
    }
   ],
   "source": [
    "y = np.linspace(0,10,50)\n",
    "y.shape, X.shape\n"
   ]
  },
  {
   "cell_type": "code",
   "execution_count": null,
   "metadata": {},
   "outputs": [],
   "source": []
  },
  {
   "cell_type": "code",
   "execution_count": 39,
   "metadata": {},
   "outputs": [],
   "source": [
    "X_train, X_test, y_train, y_test = train_test_split(X,y, test_size=0.2)\n"
   ]
  },
  {
   "cell_type": "code",
   "execution_count": 40,
   "metadata": {},
   "outputs": [
    {
     "data": {
      "text/plain": [
       "((40, 5), (40,))"
      ]
     },
     "execution_count": 40,
     "metadata": {},
     "output_type": "execute_result"
    }
   ],
   "source": [
    "X_train.shape, y_train.shape\n"
   ]
  },
  {
   "cell_type": "code",
   "execution_count": null,
   "metadata": {},
   "outputs": [],
   "source": []
  },
  {
   "cell_type": "code",
   "execution_count": 41,
   "metadata": {},
   "outputs": [
    {
     "name": "stderr",
     "output_type": "stream",
     "text": [
      "/home/kristjan/.pyenv/versions/3.10.6/envs/ML_vs_Cancer/lib/python3.10/site-packages/tensorflow/python/util/dispatch.py:1260: SyntaxWarning: In loss categorical_crossentropy, expected y_pred.shape to be (batch_size, num_classes) with num_classes > 1. Received: y_pred.shape=(8, 1). Consider using 'binary_crossentropy' if you only have 2 classes.\n",
      "  return dispatch_target(*args, **kwargs)\n"
     ]
    }
   ],
   "source": [
    "history = model.fit(X_train,\n",
    "                    y_train,\n",
    "                    epochs = 10,\n",
    "                    batch_size = 8,\n",
    "                    verbose = 0) # Try different verbose\n"
   ]
  },
  {
   "cell_type": "code",
   "execution_count": 42,
   "metadata": {},
   "outputs": [
    {
     "data": {
      "text/plain": [
       "{'validation_data': None,\n",
       " 'model': <keras.src.engine.sequential.Sequential at 0x7f7cc4eba290>,\n",
       " '_chief_worker_only': None,\n",
       " '_supports_tf_logs': False,\n",
       " 'history': {'loss': [0.0, 0.0, 0.0, 0.0, 0.0, 0.0, 0.0, 0.0, 0.0, 0.0],\n",
       "  'accuracy': [0.0, 0.0, 0.0, 0.0, 0.0, 0.0, 0.0, 0.0, 0.0, 0.0]},\n",
       " 'params': {'verbose': 0, 'epochs': 10, 'steps': 5},\n",
       " 'epoch': [0, 1, 2, 3, 4, 5, 6, 7, 8, 9]}"
      ]
     },
     "execution_count": 42,
     "metadata": {},
     "output_type": "execute_result"
    }
   ],
   "source": [
    "history.__dict__\n"
   ]
  },
  {
   "cell_type": "code",
   "execution_count": 43,
   "metadata": {},
   "outputs": [
    {
     "data": {
      "text/plain": [
       "{'loss': [0.0, 0.0, 0.0, 0.0, 0.0, 0.0, 0.0, 0.0, 0.0, 0.0],\n",
       " 'accuracy': [0.0, 0.0, 0.0, 0.0, 0.0, 0.0, 0.0, 0.0, 0.0, 0.0]}"
      ]
     },
     "execution_count": 43,
     "metadata": {},
     "output_type": "execute_result"
    }
   ],
   "source": [
    "history.history\n"
   ]
  },
  {
   "cell_type": "code",
   "execution_count": 47,
   "metadata": {},
   "outputs": [],
   "source": [
    "def plot_history(history):\n",
    "    plt.plot(history.history['loss'])\n",
    "    plt.title('Train loss')\n",
    "    plt.ylabel('Loss')\n",
    "    plt.xlabel('Epoch')\n",
    "    plt.show()\n"
   ]
  },
  {
   "cell_type": "code",
   "execution_count": 48,
   "metadata": {},
   "outputs": [
    {
     "data": {
      "image/png": "[encoded data removed]",
      "text/plain": [
       "<Figure size 640x480 with 1 Axes>"
      ]
     },
     "metadata": {},
     "output_type": "display_data"
    }
   ],
   "source": [
    "plot_history(history)\n"
   ]
  },
  {
   "cell_type": "code",
   "execution_count": 49,
   "metadata": {},
   "outputs": [
    {
     "name": "stdout",
     "output_type": "stream",
     "text": [
      "1/1 [==============================] - 0s 138ms/step - loss: 0.0000e+00 - accuracy: 0.0000e+00\n"
     ]
    },
    {
     "name": "stderr",
     "output_type": "stream",
     "text": [
      "/home/kristjan/.pyenv/versions/3.10.6/envs/ML_vs_Cancer/lib/python3.10/site-packages/tensorflow/python/util/dispatch.py:1260: SyntaxWarning: In loss categorical_crossentropy, expected y_pred.shape to be (batch_size, num_classes) with num_classes > 1. Received: y_pred.shape=(None, 1). Consider using 'binary_crossentropy' if you only have 2 classes.\n",
      "  return dispatch_target(*args, **kwargs)\n"
     ]
    }
   ],
   "source": [
    "res = model.evaluate(X_test, y_test)\n"
   ]
  },
  {
   "cell_type": "code",
   "execution_count": 61,
   "metadata": {},
   "outputs": [],
   "source": [
    "test = pd.DataFrame(X_test.iloc[0]).T\n"
   ]
  },
  {
   "cell_type": "code",
   "execution_count": 62,
   "metadata": {},
   "outputs": [
    {
     "data": {
      "text/html": [
       "<div>\n",
       "<style scoped>\n",
       "    .dataframe tbody tr th:only-of-type {\n",
       "        vertical-align: middle;\n",
       "    }\n",
       "\n",
       "    .dataframe tbody tr th {\n",
       "        vertical-align: top;\n",
       "    }\n",
       "\n",
       "    .dataframe thead th {\n",
       "        text-align: right;\n",
       "    }\n",
       "</style>\n",
       "<table border=\"1\" class=\"dataframe\">\n",
       "  <thead>\n",
       "    <tr style=\"text-align: right;\">\n",
       "      <th></th>\n",
       "      <th>f1</th>\n",
       "      <th>f2</th>\n",
       "      <th>f3</th>\n",
       "      <th>f4</th>\n",
       "      <th>f5</th>\n",
       "    </tr>\n",
       "  </thead>\n",
       "  <tbody>\n",
       "    <tr>\n",
       "      <th>44</th>\n",
       "      <td>0.897959</td>\n",
       "      <td>1.897959</td>\n",
       "      <td>1.795918</td>\n",
       "      <td>1.897959</td>\n",
       "      <td>0.44898</td>\n",
       "    </tr>\n",
       "  </tbody>\n",
       "</table>\n",
       "</div>"
      ],
      "text/plain": [
       "          f1        f2        f3        f4       f5\n",
       "44  0.897959  1.897959  1.795918  1.897959  0.44898"
      ]
     },
     "execution_count": 62,
     "metadata": {},
     "output_type": "execute_result"
    }
   ],
   "source": [
    "test\n"
   ]
  },
  {
   "cell_type": "code",
   "execution_count": 63,
   "metadata": {},
   "outputs": [
    {
     "name": "stdout",
     "output_type": "stream",
     "text": [
      "1/1 [==============================] - 0s 19ms/step\n"
     ]
    }
   ],
   "source": [
    "y_pred = model.predict(test)\n"
   ]
  },
  {
   "cell_type": "code",
   "execution_count": 64,
   "metadata": {},
   "outputs": [
    {
     "data": {
      "text/plain": [
       "array([[1.]], dtype=float32)"
      ]
     },
     "execution_count": 64,
     "metadata": {},
     "output_type": "execute_result"
    }
   ],
   "source": [
    "y_pred\n"
   ]
  },
  {
   "cell_type": "code",
   "execution_count": 65,
   "metadata": {},
   "outputs": [
    {
     "name": "stderr",
     "output_type": "stream",
     "text": [
      "/home/kristjan/.pyenv/versions/3.10.6/envs/ML_vs_Cancer/lib/python3.10/site-packages/keras/src/engine/training.py:3103: UserWarning: You are saving your model as an HDF5 file via `model.save()`. This file format is considered legacy. We recommend using instead the native Keras format, e.g. `model.save('my_model.keras')`.\n",
      "  saving_api.save_model(\n"
     ]
    }
   ],
   "source": [
    "model.save(\"dummy_model.h5\")\n"
   ]
  },
  {
   "cell_type": "code",
   "execution_count": 72,
   "metadata": {},
   "outputs": [],
   "source": [
    "from tensorflow import keras\n",
    "loaded_model = keras.models.load_model(\"dummy_model.h5\")\n"
   ]
  },
  {
   "cell_type": "code",
   "execution_count": 73,
   "metadata": {},
   "outputs": [
    {
     "name": "stdout",
     "output_type": "stream",
     "text": [
      "1/1 [==============================] - 0s 45ms/step\n"
     ]
    },
    {
     "data": {
      "text/plain": [
       "array([[1.]], dtype=float32)"
      ]
     },
     "execution_count": 73,
     "metadata": {},
     "output_type": "execute_result"
    }
   ],
   "source": [
    "loaded_model.predict(test)\n"
   ]
  },
  {
   "cell_type": "markdown",
   "metadata": {},
   "source": [
    "## Convert image to array\n"
   ]
  },
  {
   "cell_type": "code",
   "execution_count": null,
   "metadata": {},
   "outputs": [],
   "source": [
    "from PIL import Image\n",
    "import numpy as np\n",
    "import cv2\n",
    "path = \"/home/kristjan/code/ML_vs_Cancer/raw_data/train_subset/a_no_tumor_tissue/0a2ede7cd442222b402ee53050a21b109563b5b5.tif\"\n",
    "image = \n",
    "def read_and_process_image(image):\n",
    "    img = Image.open(file_path)\n",
    "    img = img.resize((224, 224))\n",
    "    return img\n",
    "\n",
    "images = [os.path.join(image_folder_label0, img) if label == 0 else os.path.join(image_folder_label1, img) for img, label in zip(images, labels)]\n",
    "\n",
    "# image_arrays = [read_and_process_image(img) for img in images]\n",
    "image_arrays = [cv2.imread(img_path) for img_path in images]\n",
    "\n",
    "valid_data = [(img, label, img_array) for img, label, img_array in zip(images, labels, image_arrays) if img_array is not None]\n",
    "df = pd.DataFrame(valid_data, columns=['image_path', 'label', 'image_array'])"
   ]
  },
  {
   "cell_type": "code",
   "execution_count": 2,
   "metadata": {},
   "outputs": [
    {
     "name": "stdout",
     "output_type": "stream",
     "text": [
      "Collecting tifffile\n",
      "  Downloading tifffile-2023.9.26-py3-none-any.whl.metadata (30 kB)\n",
      "Requirement already satisfied: numpy in /home/kristjan/.pyenv/versions/3.10.6/envs/ML_vs_Cancer/lib/python3.10/site-packages (from tifffile) (1.26.2)\n",
      "Downloading tifffile-2023.9.26-py3-none-any.whl (222 kB)\n",
      "\u001b[2K   \u001b[90m━━━━━━━━━━━━━━━━━━━━━━━━━━━━━━━━━━━━━━━━\u001b[0m \u001b[32m222.9/222.9 kB\u001b[0m \u001b[31m3.4 MB/s\u001b[0m eta \u001b[36m0:00:00\u001b[0ma \u001b[36m0:00:01\u001b[0m\n",
      "\u001b[?25hInstalling collected packages: tifffile\n",
      "Successfully installed tifffile-2023.9.26\n"
     ]
    }
   ],
   "source": [
    "!pip install tifffile"
   ]
  },
  {
   "cell_type": "code",
   "execution_count": 9,
   "metadata": {},
   "outputs": [],
   "source": [
    "import tifffile\n",
    "import numpy as np\n"
   ]
  },
  {
   "cell_type": "code",
   "execution_count": 22,
   "metadata": {},
   "outputs": [
    {
     "name": "stdout",
     "output_type": "stream",
     "text": [
      "Image shape: (96, 96, 3)\n",
      "[[[214 198 224]\n",
      "  [110  94 105]\n",
      "  [188 169 171]\n",
      "  ...\n",
      "  [ 50  18  55]\n",
      "  [ 61  33  73]\n",
      "  [ 59  33  78]]\n",
      "\n",
      " [[255 246 255]\n",
      "  [219 203 216]\n",
      "  [255 244 247]\n",
      "  ...\n",
      "  [ 58  21  55]\n",
      "  [ 28   0  31]\n",
      "  [155 124 165]]\n",
      "\n",
      " [[150 128 164]\n",
      "  [247 228 248]\n",
      "  [225 208 216]\n",
      "  ...\n",
      "  [121  77 110]\n",
      "  [185 141 177]\n",
      "  [255 218 255]]\n",
      "\n",
      " ...\n",
      "\n",
      " [[195 166 188]\n",
      "  [241 208 229]\n",
      "  [193 151 173]\n",
      "  ...\n",
      "  [ 47   4  57]\n",
      "  [129  87 135]\n",
      "  [133  94 139]]\n",
      "\n",
      " [[255 246 255]\n",
      "  [158 125 142]\n",
      "  [225 181 204]\n",
      "  ...\n",
      "  [ 33   1  48]\n",
      "  [ 52  22  60]\n",
      "  [ 97  66 100]]\n",
      "\n",
      " [[115  92 100]\n",
      "  [235 203 218]\n",
      "  [211 167 192]\n",
      "  ...\n",
      "  [ 41  20  61]\n",
      "  [ 55  31  63]\n",
      "  [ 42  18  42]]]\n"
     ]
    }
   ],
   "source": [
    "file_path = \"/home/kristjan/code/ML_vs_Cancer/notebooks/1.tif\"\n",
    "def read_tiff_image(file_path):\n",
    "    try:\n",
    "        # Read the TIFF image using tifffile\n",
    "        tiff_data = tifffile.imread(file_path)\n",
    "\n",
    "        # Convert to NumPy array if not already\n",
    "        if not isinstance(tiff_data, np.ndarray):\n",
    "            tiff_data = np.array(tiff_data)\n",
    "\n",
    "        return tiff_data\n",
    "    except Exception as e:\n",
    "        print(f\"Error reading TIFF image: {e}\")\n",
    "        return None\n",
    "\n",
    "# Example usage:\n",
    "tif_file_path = file_path\n",
    "image_array = read_tiff_image(file_path)\n",
    "\n",
    "if image_array is not None:\n",
    "    print(\"Image shape:\", image_array.shape)\n",
    "    print(image_array)\n",
    "    # Add your further processing logic here"
   ]
  },
  {
   "cell_type": "code",
   "execution_count": 23,
   "metadata": {},
   "outputs": [],
   "source": [
    "def read_tiff_image(file):\n",
    "    try:\n",
    "        # Read the TIFF image using tifffile\n",
    "        tiff_data = tifffile.imread(file)\n",
    "\n",
    "        # Convert to NumPy array if not already\n",
    "        if not isinstance(tiff_data, np.ndarray):\n",
    "            tiff_data = np.array(tiff_data)\n",
    "\n",
    "        return tiff_data\n",
    "    except Exception as e:\n",
    "        print(f\"Error reading TIFF image: {e}\")\n",
    "        return None"
   ]
  },
  {
   "cell_type": "code",
   "execution_count": 25,
   "metadata": {},
   "outputs": [
    {
     "name": "stdout",
     "output_type": "stream",
     "text": [
      "Image shape: (96, 96, 3)\n",
      "[[[214 198 224]\n",
      "  [110  94 105]\n",
      "  [188 169 171]\n",
      "  ...\n",
      "  [ 50  18  55]\n",
      "  [ 61  33  73]\n",
      "  [ 59  33  78]]\n",
      "\n",
      " [[255 246 255]\n",
      "  [219 203 216]\n",
      "  [255 244 247]\n",
      "  ...\n",
      "  [ 58  21  55]\n",
      "  [ 28   0  31]\n",
      "  [155 124 165]]\n",
      "\n",
      " [[150 128 164]\n",
      "  [247 228 248]\n",
      "  [225 208 216]\n",
      "  ...\n",
      "  [121  77 110]\n",
      "  [185 141 177]\n",
      "  [255 218 255]]\n",
      "\n",
      " ...\n",
      "\n",
      " [[195 166 188]\n",
      "  [241 208 229]\n",
      "  [193 151 173]\n",
      "  ...\n",
      "  [ 47   4  57]\n",
      "  [129  87 135]\n",
      "  [133  94 139]]\n",
      "\n",
      " [[255 246 255]\n",
      "  [158 125 142]\n",
      "  [225 181 204]\n",
      "  ...\n",
      "  [ 33   1  48]\n",
      "  [ 52  22  60]\n",
      "  [ 97  66 100]]\n",
      "\n",
      " [[115  92 100]\n",
      "  [235 203 218]\n",
      "  [211 167 192]\n",
      "  ...\n",
      "  [ 41  20  61]\n",
      "  [ 55  31  63]\n",
      "  [ 42  18  42]]]\n"
     ]
    }
   ],
   "source": [
    "# Open the TIFF file in binary mode and pass the file object to the function\n",
    "with open(file_path, 'rb') as tiff_file:\n",
    "    image_array = read_tiff_image(tiff_file)\n",
    "\n",
    "if image_array is not None:\n",
    "    print(\"Image shape:\", image_array.shape)\n",
    "    print(image_array)\n",
    "    # Add your further processing logic here"
   ]
  },
  {
   "cell_type": "code",
   "execution_count": null,
   "metadata": {},
   "outputs": [],
   "source": []
  }
 ],
 "metadata": {
  "kernelspec": {
   "display_name": "Python 3 (ipykernel)",
   "language": "python",
   "name": "python3"
  },
  "language_info": {
   "codemirror_mode": {
    "name": "ipython",
    "version": 3
   },
   "file_extension": ".py",
   "mimetype": "text/x-python",
   "name": "python",
   "nbconvert_exporter": "python",
   "pygments_lexer": "ipython3",
   "version": "3.10.6"
  },
  "toc": {
   "base_numbering": 1,
   "nav_menu": {},
   "number_sections": true,
   "sideBar": true,
   "skip_h1_title": false,
   "title_cell": "Table of Contents",
   "title_sidebar": "Contents",
   "toc_cell": false,
   "toc_position": {},
   "toc_section_display": true,
   "toc_window_display": false
  }
 },
 "nbformat": 4,
 "nbformat_minor": 2
}
