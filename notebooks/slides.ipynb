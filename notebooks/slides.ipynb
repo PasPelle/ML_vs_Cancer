{
 "cells": [
  {
   "cell_type": "markdown",
   "id": "e4baff2c",
   "metadata": {
    "slideshow": {
     "slide_type": "slide"
    }
   },
   "source": [
    "## 1. ML vs Cancer - Project Understanding"
   ]
  },
  {
   "cell_type": "markdown",
   "id": "c375ce49",
   "metadata": {
    "slideshow": {
     "slide_type": "subslide"
    }
   },
   "source": [
    "### 1.1 Introduction and Challenge Overview: Identifying and detecting metastases in 96x96px digital histopathology images, with the specific challenge of pinpointing metastatic cells as small as single cells within large areas of tissue."
   ]
  },
  {
   "cell_type": "markdown",
   "id": "cbca181c",
   "metadata": {
    "slideshow": {
     "slide_type": "subslide"
    }
   },
   "source": [
    "### 1.2 Visual Examples: Display of malignant and non-malignant images.\n",
    "![NON_Malignant](C:/Users/drost/Downloads/images/NON_Malignant.png)\n",
    "![Malignant](C:/Users/drost/Downloads/images/Malignant.png)"
   ]
  },
  {
   "cell_type": "markdown",
   "id": "21987f8b",
   "metadata": {
    "slideshow": {
     "slide_type": "slide"
    }
   },
   "source": [
    "## 2. Data Understanding"
   ]
  },
  {
   "cell_type": "markdown",
   "id": "20dd5f38",
   "metadata": {
    "slideshow": {
     "slide_type": "subslide"
    }
   },
   "source": [
    "### 2.1 Dataset Overview: 220k training images and 57k evaluation images with no missing data or duplicates.\n",
    "\n",
    "### 2.2 Image File Specifications: Detailing format, size, channels, bits per channel, data type, and compression."
   ]
  },
  {
   "cell_type": "markdown",
   "id": "a2ed95c7",
   "metadata": {
    "slideshow": {
     "slide_type": "subslide"
    }
   },
   "source": [
    "### 2.3 Label Distribution Analysis: Pie chart representation of 59.5% non-malignant and 40.5% malignant labels.\n",
    "![Pie_Chart](C:/Users/drost/Downloads/images/Pie_Chart.png)"
   ]
  },
  {
   "cell_type": "markdown",
   "id": "3fd5e348",
   "metadata": {
    "slideshow": {
     "slide_type": "subslide"
    }
   },
   "source": [
    "### 2.4 *(Optional, Time Permitting)*\n",
    "#### - Characteristics of Lymph Node Metastases: Discussion on specific features like foreign cell population, cytologic features, and nuclear atypia.\n"
   ]
  },
  {
   "cell_type": "markdown",
   "id": "59e03a05",
   "metadata": {
    "slideshow": {
     "slide_type": "slide"
    }
   },
   "source": [
    "## 3. Data Preprocessing and Augmentation"
   ]
  },
  {
   "cell_type": "markdown",
   "id": "15cdd1f2",
   "metadata": {
    "slideshow": {
     "slide_type": "subslide"
    }
   },
   "source": [
    "### 3.1 Data Normalization: Discuss the process of converting images to binary format for normalization, explaining the rationale and benefits of this approach in the context of image classification."
   ]
  },
  {
   "cell_type": "markdown",
   "id": "eac9ba03",
   "metadata": {
    "slideshow": {
     "slide_type": "subslide"
    }
   },
   "source": [
    "### 3.2 Transformation Strategies: Best practices for data transformation for modeling."
   ]
  },
  {
   "cell_type": "markdown",
   "id": "0127be92",
   "metadata": {
    "slideshow": {
     "slide_type": "subslide"
    }
   },
   "source": [
    "### 3.3 Enhancing Data Quality: Addressing challenges with unfocused, very bright, or very dark images."
   ]
  },
  {
   "cell_type": "markdown",
   "id": "02d9d4ff",
   "metadata": {
    "slideshow": {
     "slide_type": "subslide"
    }
   },
   "source": [
    "### 3.4 Statistical Analysis: Presentation of channel averages and standard deviations."
   ]
  },
  {
   "cell_type": "markdown",
   "id": "7d0fffd5",
   "metadata": {
    "slideshow": {
     "slide_type": "subslide"
    }
   },
   "source": [
    "### 3.5 Augmentation Methods: Exploring random rotation, crop, flip, zoom, and other augmentations."
   ]
  },
  {
   "cell_type": "markdown",
   "id": "0b073a95",
   "metadata": {
    "slideshow": {
     "slide_type": "slide"
    }
   },
   "source": [
    "## 4. Baseline Model Development (VGG16)"
   ]
  },
  {
   "cell_type": "markdown",
   "id": "1c68f0bd",
   "metadata": {
    "slideshow": {
     "slide_type": "subslide"
    }
   },
   "source": [
    "### 4.1 Implementation and Training Process: Introducing the VGG16 model approach."
   ]
  },
  {
   "cell_type": "markdown",
   "id": "530ba700",
   "metadata": {
    "slideshow": {
     "slide_type": "slide"
    }
   },
   "source": [
    "## 5. Model Validation and Analysis"
   ]
  },
  {
   "cell_type": "markdown",
   "id": "50e8d4cc",
   "metadata": {
    "slideshow": {
     "slide_type": "subslide"
    }
   },
   "source": [
    "### 5.1 Methods and Techniques: Detailed validation and analytical approach of the model's performance."
   ]
  },
  {
   "cell_type": "markdown",
   "id": "d7bb691f",
   "metadata": {
    "slideshow": {
     "slide_type": "slide"
    }
   },
   "source": [
    "## 6. Evaluation Metrics"
   ]
  },
  {
   "cell_type": "markdown",
   "id": "2cefd2f7",
   "metadata": {
    "slideshow": {
     "slide_type": "subslide"
    }
   },
   "source": [
    "### 6.1 Key Metrics: Discussing the importance of accuracy, ROC, and AUC for model assessment."
   ]
  },
  {
   "cell_type": "markdown",
   "id": "0370027b",
   "metadata": {
    "slideshow": {
     "slide_type": "slide"
    }
   },
   "source": [
    "## 7. Prediction and Activation Visualizations"
   ]
  },
  {
   "cell_type": "markdown",
   "id": "27525682",
   "metadata": {
    "slideshow": {
     "slide_type": "subslide"
    }
   },
   "source": [
    "### 7.1 Interpretive Visuals: Showcasing model predictions and activation maps for deeper insights."
   ]
  },
  {
   "cell_type": "markdown",
   "id": "430052c0",
   "metadata": {
    "slideshow": {
     "slide_type": "slide"
    }
   },
   "source": [
    "## 8. ROC Curve and AUC Analysis"
   ]
  },
  {
   "cell_type": "markdown",
   "id": "96c24d57",
   "metadata": {
    "slideshow": {
     "slide_type": "subslide"
    }
   },
   "source": [
    "### 8.1 Detailed Explanation: Illustration and interpretation of the Receiver Operating Characteristic (ROC) curve and Area Under the Curve (AUC)."
   ]
  },
  {
   "cell_type": "markdown",
   "id": "09148faa",
   "metadata": {
    "slideshow": {
     "slide_type": "slide"
    }
   },
   "source": [
    "## 9. Final Steps: Submission and Deployment"
   ]
  },
  {
   "cell_type": "markdown",
   "id": "3a038950",
   "metadata": {
    "slideshow": {
     "slide_type": "subslide"
    }
   },
   "source": [
    "### 9.1 Submission Process: Guidelines for submitting model predictions."
   ]
  },
  {
   "cell_type": "markdown",
   "id": "fdcad5aa",
   "metadata": {},
   "source": [
    "### 9.2 Deployment : [ML vs Cancer Streamlit link](https://mlvscancer.streamlit.app/)"
   ]
  },
  {
   "cell_type": "markdown",
   "id": "c289a89e",
   "metadata": {
    "slideshow": {
     "slide_type": "slide"
    }
   },
   "source": [
    "## Thank you!"
   ]
  }
 ],
 "metadata": {
  "celltoolbar": "Slideshow",
  "kernelspec": {
   "display_name": "Python 3 (ipykernel)",
   "language": "python",
   "name": "python3"
  },
  "language_info": {
   "codemirror_mode": {
    "name": "ipython",
    "version": 3
   },
   "file_extension": ".py",
   "mimetype": "text/x-python",
   "name": "python",
   "nbconvert_exporter": "python",
   "pygments_lexer": "ipython3",
   "version": "3.10.6"
  },
  "toc": {
   "base_numbering": 1,
   "nav_menu": {},
   "number_sections": true,
   "sideBar": true,
   "skip_h1_title": false,
   "title_cell": "Table of Contents",
   "title_sidebar": "Contents",
   "toc_cell": false,
   "toc_position": {},
   "toc_section_display": true,
   "toc_window_display": false
  }
 },
 "nbformat": 4,
 "nbformat_minor": 5
}
