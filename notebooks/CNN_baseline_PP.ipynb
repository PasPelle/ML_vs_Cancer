{
 "cells": [
  {
   "cell_type": "code",
   "execution_count": 70,
   "metadata": {
    "id": "HznkV053nk_D"
   },
   "outputs": [],
   "source": [
    "import pandas as pd\n",
    "import numpy as np\n",
    "\n",
    "from tensorflow.keras import Sequential, layers\n",
    "from tensorflow.keras.layers import Conv2D, MaxPooling2D, Flatten, Dropout, Dense\n",
    "\n",
    "#remove warnings\n",
    "import warnings\n",
    "warnings.filterwarnings('ignore')"
   ]
  },
  {
   "cell_type": "markdown",
   "metadata": {
    "id": "GefGtMQLKBD2"
   },
   "source": [
    "# New section"
   ]
  },
  {
   "cell_type": "code",
   "execution_count": 86,
   "metadata": {
    "colab": {
     "base_uri": "https://localhost:8080/",
     "height": 424
    },
    "id": "ngbIwGeWypyB",
    "outputId": "8e22028b-9fc0-420e-b711-7124c0e184bd"
   },
   "outputs": [],
   "source": [
    "file_path = '/Users/ppellegrini/code/PasPelle/ML_vs_Cancer/raw_data/train_labels.csv'\n",
    "labels_df = pd.read_csv(file_path)\n",
    "\n",
    "train_path = '/Users/ppellegrini/code/PasPelle/ML_vs_Cancer/raw_data/train/'\n",
    "\n",
    "# labels_df = labels_df.sample(100)\n"
   ]
  },
  {
   "cell_type": "code",
   "execution_count": 157,
   "metadata": {},
   "outputs": [],
   "source": [
    "# (labels_df['label'] == 0).sum()"
   ]
  },
  {
   "cell_type": "code",
   "execution_count": 158,
   "metadata": {},
   "outputs": [],
   "source": [
    "# (labels_df['label'] == 1).sum()"
   ]
  },
  {
   "cell_type": "code",
   "execution_count": 98,
   "metadata": {},
   "outputs": [],
   "source": [
    "# from tqdm.auto import tqdm #nice progressbar for pandas (replaces apply with progress_apply)\n",
    "# tqdm.pandas() #it needs to be initialized\n",
    "\n",
    "# import os\n",
    "# import cv2\n",
    "# import imageio\n",
    "# import matplotlib.pyplot as plt\n",
    "    \n",
    "# def readImage(path):\n",
    "#     # OpenCV reads the image in bgr format by default\n",
    "#     bgr_img = imageio.imread(path)\n",
    "\n",
    "#     # We flip it to rgb for visualization purposes\n",
    "\n",
    "#     if bgr_img is not None:\n",
    "#         b, g, r = np.split(bgr_img, axis=-1)\n",
    "#         rgb_img = np.concatenate([r, g, b], axis=-1)\n",
    "#         return rgb_img\n",
    "#     else:\n",
    "#         return None\n",
    "\n",
    "# def read_tumor_image_from_path(id_):\n",
    "#     path = os.path.join(train_path, id_)\n",
    "#     return readImage(path + '.tif')\n",
    "\n",
    "# def read_no_tumor_image_from_path(id_):\n",
    "#     path = os.path.join(train_path, id_)\n",
    "#     return readImage(path + '.tif')"
   ]
  },
  {
   "cell_type": "code",
   "execution_count": null,
   "metadata": {},
   "outputs": [],
   "source": [
    "# import cv2\n",
    "# import os\n",
    "# import numpy as np\n",
    "# from skimage import io\n",
    "\n",
    "# def read_and_preprocess_image(file_path):\n",
    "#     # Read the TIFF image using skimage's io.imread\n",
    "#     img = io.imread(file_path)\n",
    "    \n",
    "#     # Check if the image was successfully loaded\n",
    "#     if img is not None:\n",
    "#         # Convert to RGB if the image is not already in RGB format\n",
    "#         if img.shape[-1] == 1:\n",
    "#             img = cv2.cvtColor(img, cv2.COLOR_GRAY2RGB)\n",
    "#         elif img.shape[-1] == 4:\n",
    "#             img = cv2.cvtColor(img, cv2.COLOR_RGBA2RGB)\n",
    "        \n",
    "#         # Resize the image to the desired input size (e.g., 224x224 for many CNNs)\n",
    "#         img = cv2.resize(img, (32, 32))\n",
    "        \n",
    "#         # Normalize pixel values to be between 0 and 1\n",
    "#         img = img / 255.0\n",
    "        \n",
    "#         # Expand dimensions to create a batch of size 1 (required for CNN input)\n",
    "#         img = np.expand_dims(img, axis=0)\n",
    "        \n",
    "#         return img\n",
    "#     else:\n",
    "#         # Return None if the image couldn't be loaded\n",
    "#         return None\n",
    "\n",
    "# # Example usage\n",
    "# image_path = \"path/to/your/image.tiff\"\n",
    "# image_array = read_and_preprocess_image(image_path)\n",
    "\n",
    "# if image_array is not None:\n",
    "#     print(\"Image successfully loaded and preprocessed.\")\n",
    "# else:\n",
    "#     print(\"Failed to load the image.\")"
   ]
  },
  {
   "cell_type": "code",
   "execution_count": 131,
   "metadata": {
    "scrolled": false
   },
   "outputs": [],
   "source": [
    "# labels_df['img'] = labels_df.loc[labels_df['label'] == 1, 'id'].progress_apply(read_tumor_image_from_path)\n",
    "# labels_df['img'] = labels_df.loc[labels_df['label'] == 0, 'id'].progress_apply(read_no_tumor_image_from_path)\n",
    "\n",
    "# labels_df"
   ]
  },
  {
   "cell_type": "code",
   "execution_count": 132,
   "metadata": {},
   "outputs": [],
   "source": [
    "# # Get tumor images' IDs\n",
    "# tumor_ids = labels_df.loc[labels_df['label'] == 1, 'id']\n",
    "\n",
    "# # Populate 'img' column with corresponding arrays\n",
    "# labels_df['img'] = tumor_ids.progress_apply(read_tumor_image_from_path)\n"
   ]
  },
  {
   "cell_type": "code",
   "execution_count": 133,
   "metadata": {},
   "outputs": [],
   "source": [
    "# # Count the number of None values in the 'img' column\n",
    "# num_none_images = labels_df['img'].isnull().sum()\n",
    "\n",
    "# print(f\"Number of images with None values: {num_none_images}\")"
   ]
  },
  {
   "cell_type": "code",
   "execution_count": 135,
   "metadata": {
    "scrolled": true
   },
   "outputs": [],
   "source": [
    "# #count non null values\n",
    "# non_null_count = labels_df['img'].count()\n",
    "# print(f\"Number of images with non null values: {non_null_count}\")"
   ]
  },
  {
   "cell_type": "code",
   "execution_count": 136,
   "metadata": {},
   "outputs": [],
   "source": [
    "# test_image_path = os.path.join(train_path, labels_df['id'].iloc[0] + '.tif')\n",
    "# test_image = cv2.imread(test_image_path)\n",
    "\n",
    "# if test_image is not None:\n",
    "#     print(\"Image read successfully.\")\n",
    "# else:\n",
    "#     print(\"Failed to read the image.\")"
   ]
  },
  {
   "cell_type": "code",
   "execution_count": 139,
   "metadata": {},
   "outputs": [],
   "source": [
    "# if os.path.exists(test_image_path):\n",
    "#     print(\"Image file exists.\")\n",
    "# else:\n",
    "#     print(\"Image file does not exist.\")"
   ]
  },
  {
   "cell_type": "code",
   "execution_count": 140,
   "metadata": {},
   "outputs": [],
   "source": [
    "# # Check the data type of the 'id' column\n",
    "# print(\"Data type of 'id' column:\", labels_df['id'].dtype)\n",
    "\n",
    "# # Display unique values in the 'id' column\n",
    "# print(\"Unique values in 'id' column:\", labels_df['id'].unique())"
   ]
  },
  {
   "cell_type": "code",
   "execution_count": 100,
   "metadata": {},
   "outputs": [],
   "source": [
    "import os\n",
    "import random\n",
    "from sklearn.utils import shuffle\n",
    "\n",
    "image_folder_label0 = '/Users/ppellegrini/code/PasPelle/ML_vs_Cancer/raw_data/train_subset/a_no_tumor_tissue/'\n",
    "image_folder_label1 = '/Users/ppellegrini/code/PasPelle/ML_vs_Cancer/raw_data/train_subset/b_has_tumor_tissue/'\n",
    "\n",
    "images_label0 = [f for f in os.listdir(image_folder_label0) if f.endswith('.tif')]\n",
    "images_label1 = [f for f in os.listdir(image_folder_label1) if f.endswith('.tif')]\n",
    "\n",
    "images = images_label0 + images_label1\n",
    "labels = [0] * len(images_label0) + [1] * len(images_label1)\n",
    "\n",
    "images, labels = shuffle(images, labels, random_state=42)"
   ]
  },
  {
   "cell_type": "code",
   "execution_count": 101,
   "metadata": {},
   "outputs": [],
   "source": [
    "from PIL import Image\n",
    "import numpy as np\n",
    "import cv2\n",
    "\n",
    "def read_and_process_image(file_path):\n",
    "    img = Image.open(file_path)\n",
    "    img = img.resize((32, 32))\n",
    "    return img\n",
    "\n",
    "images = [os.path.join(image_folder_label0, img) if label == 0 else os.path.join(image_folder_label1, img) for img, label in zip(images, labels)]\n",
    "\n",
    "# image_arrays = [read_and_process_image(img) for img in images]\n",
    "image_arrays = [cv2.imread(img_path) for img_path in images]\n",
    "\n",
    "valid_data = [(img, label, img_array) for img, label, img_array in zip(images, labels, image_arrays) if img_array is not None]\n",
    "df = pd.DataFrame(valid_data, columns=['image_path', 'label', 'image_array'])\n",
    "     "
   ]
  },
  {
   "cell_type": "code",
   "execution_count": 159,
   "metadata": {},
   "outputs": [
    {
     "data": {
      "text/plain": [
       "(18000, 3)"
      ]
     },
     "execution_count": 159,
     "metadata": {},
     "output_type": "execute_result"
    }
   ],
   "source": [
    "df.shape"
   ]
  },
  {
   "cell_type": "code",
   "execution_count": 106,
   "metadata": {},
   "outputs": [],
   "source": [
    "X = np.stack(df['image_array'].values)\n",
    "y = df['label'].values"
   ]
  },
  {
   "cell_type": "code",
   "execution_count": 107,
   "metadata": {},
   "outputs": [],
   "source": [
    "from sklearn.model_selection import train_test_split\n",
    "\n",
    "X_train, X_test, y_train, y_test = train_test_split(X, y, train_size=0.3, random_state=42)\n",
    "\n"
   ]
  },
  {
   "cell_type": "code",
   "execution_count": 108,
   "metadata": {},
   "outputs": [
    {
     "data": {
      "text/plain": [
       "(5400, 96, 96, 3)"
      ]
     },
     "execution_count": 108,
     "metadata": {},
     "output_type": "execute_result"
    }
   ],
   "source": [
    "X_train.shape\n"
   ]
  },
  {
   "cell_type": "code",
   "execution_count": 118,
   "metadata": {
    "id": "wBMmMFNzsmxn"
   },
   "outputs": [],
   "source": [
    "# #CNN\n",
    "\n",
    "# def initialize_model():\n",
    "\n",
    "#     model = Sequential()\n",
    "\n",
    "#     model.add(Conv2D(16, (3, 3), activation = 'relu', padding = 'same', input_shape=(96, 96, 3)))\n",
    "#     model.add(MaxPooling2D((2, 2)))\n",
    "\n",
    "#     model.add(Dropout(0.2))\n",
    "\n",
    "#     model.add(Conv2D(32, (3, 3), activation = 'relu', padding = 'same'))\n",
    "#     model.add(MaxPooling2D((2, 2)))\n",
    "\n",
    "#     model.add(Dropout(0.2))\n",
    "\n",
    "#     model.add(Conv2D(64, (2, 2), activation = 'relu', padding = 'same'))\n",
    "#     model.add(Dropout(0.3))\n",
    "#     model.add(MaxPooling2D((2, 2)))\n",
    "\n",
    "#     model.add(Flatten())\n",
    "#     model.add(Dense(100, activation = 'relu'))\n",
    "#     model.add(Dropout(0.4))\n",
    "#     model.add(Dense(1, activation = 'sigmoid'))\n",
    "\n",
    "#     return model"
   ]
  },
  {
   "cell_type": "code",
   "execution_count": 150,
   "metadata": {},
   "outputs": [],
   "source": [
    "kernel_size = (3,3)\n",
    "pool_size= (2,2)\n",
    "first_filters = 32\n",
    "second_filters = 64\n",
    "third_filters = 128\n",
    "\n",
    "dropout_conv = 0.3\n",
    "dropout_dense = 0.3\n",
    "\n",
    "def initialize_model():\n",
    "    model = Sequential()\n",
    "    model.add(Conv2D(first_filters, kernel_size, activation = 'relu', input_shape = (96, 96, 3)))\n",
    "    model.add(Conv2D(first_filters, kernel_size, activation = 'relu'))\n",
    "    model.add(Conv2D(first_filters, kernel_size, activation = 'relu'))\n",
    "    model.add(MaxPooling2D(pool_size = pool_size)) \n",
    "    model.add(Dropout(dropout_conv))\n",
    "\n",
    "    model.add(Conv2D(second_filters, kernel_size, activation ='relu'))\n",
    "    model.add(Conv2D(second_filters, kernel_size, activation ='relu'))\n",
    "    model.add(Conv2D(second_filters, kernel_size, activation ='relu'))\n",
    "    model.add(MaxPooling2D(pool_size = pool_size))\n",
    "    model.add(Dropout(dropout_conv))\n",
    "\n",
    "    model.add(Conv2D(third_filters, kernel_size, activation ='relu'))\n",
    "    model.add(Conv2D(third_filters, kernel_size, activation ='relu'))\n",
    "    model.add(Conv2D(third_filters, kernel_size, activation ='relu'))\n",
    "    model.add(MaxPooling2D(pool_size = pool_size))\n",
    "    model.add(Dropout(dropout_conv))\n",
    "\n",
    "    model.add(Flatten())\n",
    "    model.add(Dense(256, activation = \"relu\"))\n",
    "    model.add(Dropout(dropout_dense))\n",
    "    model.add(Dense(1, activation = \"sigmoid\"))\n",
    "\n",
    "    model.summary()\n",
    "    \n",
    "    return model"
   ]
  },
  {
   "cell_type": "code",
   "execution_count": 151,
   "metadata": {
    "colab": {
     "base_uri": "https://localhost:8080/"
    },
    "id": "2F14KOYntEUB",
    "outputId": "780564ee-a68d-4d05-a7b6-086919a1ebad"
   },
   "outputs": [
    {
     "name": "stdout",
     "output_type": "stream",
     "text": [
      "Model: \"sequential_14\"\n",
      "_________________________________________________________________\n",
      " Layer (type)                Output Shape              Param #   \n",
      "=================================================================\n",
      " conv2d_66 (Conv2D)          (None, 94, 94, 32)        896       \n",
      "                                                                 \n",
      " conv2d_67 (Conv2D)          (None, 92, 92, 32)        9248      \n",
      "                                                                 \n",
      " conv2d_68 (Conv2D)          (None, 90, 90, 32)        9248      \n",
      "                                                                 \n",
      " max_pooling2d_42 (MaxPooli  (None, 45, 45, 32)        0         \n",
      " ng2D)                                                           \n",
      "                                                                 \n",
      " dropout_56 (Dropout)        (None, 45, 45, 32)        0         \n",
      "                                                                 \n",
      " conv2d_69 (Conv2D)          (None, 43, 43, 64)        18496     \n",
      "                                                                 \n",
      " conv2d_70 (Conv2D)          (None, 41, 41, 64)        36928     \n",
      "                                                                 \n",
      " conv2d_71 (Conv2D)          (None, 39, 39, 64)        36928     \n",
      "                                                                 \n",
      " max_pooling2d_43 (MaxPooli  (None, 19, 19, 64)        0         \n",
      " ng2D)                                                           \n",
      "                                                                 \n",
      " dropout_57 (Dropout)        (None, 19, 19, 64)        0         \n",
      "                                                                 \n",
      " conv2d_72 (Conv2D)          (None, 17, 17, 128)       73856     \n",
      "                                                                 \n",
      " conv2d_73 (Conv2D)          (None, 15, 15, 128)       147584    \n",
      "                                                                 \n",
      " conv2d_74 (Conv2D)          (None, 13, 13, 128)       147584    \n",
      "                                                                 \n",
      " max_pooling2d_44 (MaxPooli  (None, 6, 6, 128)         0         \n",
      " ng2D)                                                           \n",
      "                                                                 \n",
      " dropout_58 (Dropout)        (None, 6, 6, 128)         0         \n",
      "                                                                 \n",
      " flatten_14 (Flatten)        (None, 4608)              0         \n",
      "                                                                 \n",
      " dense_28 (Dense)            (None, 256)               1179904   \n",
      "                                                                 \n",
      " dropout_59 (Dropout)        (None, 256)               0         \n",
      "                                                                 \n",
      " dense_29 (Dense)            (None, 1)                 257       \n",
      "                                                                 \n",
      "=================================================================\n",
      "Total params: 1660929 (6.34 MB)\n",
      "Trainable params: 1660929 (6.34 MB)\n",
      "Non-trainable params: 0 (0.00 Byte)\n",
      "_________________________________________________________________\n",
      "Model: \"sequential_14\"\n",
      "_________________________________________________________________\n",
      " Layer (type)                Output Shape              Param #   \n",
      "=================================================================\n",
      " conv2d_66 (Conv2D)          (None, 94, 94, 32)        896       \n",
      "                                                                 \n",
      " conv2d_67 (Conv2D)          (None, 92, 92, 32)        9248      \n",
      "                                                                 \n",
      " conv2d_68 (Conv2D)          (None, 90, 90, 32)        9248      \n",
      "                                                                 \n",
      " max_pooling2d_42 (MaxPooli  (None, 45, 45, 32)        0         \n",
      " ng2D)                                                           \n",
      "                                                                 \n",
      " dropout_56 (Dropout)        (None, 45, 45, 32)        0         \n",
      "                                                                 \n",
      " conv2d_69 (Conv2D)          (None, 43, 43, 64)        18496     \n",
      "                                                                 \n",
      " conv2d_70 (Conv2D)          (None, 41, 41, 64)        36928     \n",
      "                                                                 \n",
      " conv2d_71 (Conv2D)          (None, 39, 39, 64)        36928     \n",
      "                                                                 \n",
      " max_pooling2d_43 (MaxPooli  (None, 19, 19, 64)        0         \n",
      " ng2D)                                                           \n",
      "                                                                 \n",
      " dropout_57 (Dropout)        (None, 19, 19, 64)        0         \n",
      "                                                                 \n",
      " conv2d_72 (Conv2D)          (None, 17, 17, 128)       73856     \n",
      "                                                                 \n",
      " conv2d_73 (Conv2D)          (None, 15, 15, 128)       147584    \n",
      "                                                                 \n",
      " conv2d_74 (Conv2D)          (None, 13, 13, 128)       147584    \n",
      "                                                                 \n",
      " max_pooling2d_44 (MaxPooli  (None, 6, 6, 128)         0         \n",
      " ng2D)                                                           \n",
      "                                                                 \n",
      " dropout_58 (Dropout)        (None, 6, 6, 128)         0         \n",
      "                                                                 \n",
      " flatten_14 (Flatten)        (None, 4608)              0         \n",
      "                                                                 \n",
      " dense_28 (Dense)            (None, 256)               1179904   \n",
      "                                                                 \n",
      " dropout_59 (Dropout)        (None, 256)               0         \n",
      "                                                                 \n",
      " dense_29 (Dense)            (None, 1)                 257       \n",
      "                                                                 \n",
      "=================================================================\n",
      "Total params: 1660929 (6.34 MB)\n",
      "Trainable params: 1660929 (6.34 MB)\n",
      "Non-trainable params: 0 (0.00 Byte)\n",
      "_________________________________________________________________\n"
     ]
    }
   ],
   "source": [
    "model = initialize_model()\n",
    "model.summary()"
   ]
  },
  {
   "cell_type": "code",
   "execution_count": 152,
   "metadata": {
    "id": "fSU25bfIuSzP"
   },
   "outputs": [],
   "source": [
    "from tensorflow.keras import optimizers\n",
    "\n",
    "def compile_model(model):\n",
    "    model.compile(loss = 'binary_crossentropy',\n",
    "                  optimizer = 'adam',\n",
    "                  metrics = ['accuracy'])\n",
    "    return model"
   ]
  },
  {
   "cell_type": "code",
   "execution_count": 153,
   "metadata": {
    "id": "T9to2rVduThF",
    "scrolled": true
   },
   "outputs": [
    {
     "name": "stdout",
     "output_type": "stream",
     "text": [
      "Model: \"sequential_15\"\n",
      "_________________________________________________________________\n",
      " Layer (type)                Output Shape              Param #   \n",
      "=================================================================\n",
      " conv2d_75 (Conv2D)          (None, 94, 94, 32)        896       \n",
      "                                                                 \n",
      " conv2d_76 (Conv2D)          (None, 92, 92, 32)        9248      \n",
      "                                                                 \n",
      " conv2d_77 (Conv2D)          (None, 90, 90, 32)        9248      \n",
      "                                                                 \n",
      " max_pooling2d_45 (MaxPooli  (None, 45, 45, 32)        0         \n",
      " ng2D)                                                           \n",
      "                                                                 \n",
      " dropout_60 (Dropout)        (None, 45, 45, 32)        0         \n",
      "                                                                 \n",
      " conv2d_78 (Conv2D)          (None, 43, 43, 64)        18496     \n",
      "                                                                 \n",
      " conv2d_79 (Conv2D)          (None, 41, 41, 64)        36928     \n",
      "                                                                 \n",
      " conv2d_80 (Conv2D)          (None, 39, 39, 64)        36928     \n",
      "                                                                 \n",
      " max_pooling2d_46 (MaxPooli  (None, 19, 19, 64)        0         \n",
      " ng2D)                                                           \n",
      "                                                                 \n",
      " dropout_61 (Dropout)        (None, 19, 19, 64)        0         \n",
      "                                                                 \n",
      " conv2d_81 (Conv2D)          (None, 17, 17, 128)       73856     \n",
      "                                                                 \n",
      " conv2d_82 (Conv2D)          (None, 15, 15, 128)       147584    \n",
      "                                                                 \n",
      " conv2d_83 (Conv2D)          (None, 13, 13, 128)       147584    \n",
      "                                                                 \n",
      " max_pooling2d_47 (MaxPooli  (None, 6, 6, 128)         0         \n",
      " ng2D)                                                           \n",
      "                                                                 \n",
      " dropout_62 (Dropout)        (None, 6, 6, 128)         0         \n",
      "                                                                 \n",
      " flatten_15 (Flatten)        (None, 4608)              0         \n",
      "                                                                 \n",
      " dense_30 (Dense)            (None, 256)               1179904   \n",
      "                                                                 \n",
      " dropout_63 (Dropout)        (None, 256)               0         \n",
      "                                                                 \n",
      " dense_31 (Dense)            (None, 1)                 257       \n",
      "                                                                 \n",
      "=================================================================\n",
      "Total params: 1660929 (6.34 MB)\n",
      "Trainable params: 1660929 (6.34 MB)\n",
      "Non-trainable params: 0 (0.00 Byte)\n",
      "_________________________________________________________________\n",
      "Epoch 1/10\n",
      "60/60 [==============================] - 99s 2s/step - loss: 0.9662 - accuracy: 0.5142 - val_loss: 0.6927 - val_accuracy: 0.5145\n",
      "Epoch 2/10\n",
      "60/60 [==============================] - 96s 2s/step - loss: 0.6880 - accuracy: 0.5581 - val_loss: 0.6450 - val_accuracy: 0.7489\n",
      "Epoch 3/10\n",
      "60/60 [==============================] - 92s 2s/step - loss: 0.6316 - accuracy: 0.6510 - val_loss: 0.6787 - val_accuracy: 0.5207\n",
      "Epoch 4/10\n",
      "60/60 [==============================] - 92s 2s/step - loss: 0.6601 - accuracy: 0.5763 - val_loss: 0.5859 - val_accuracy: 0.6996\n",
      "Epoch 5/10\n",
      "60/60 [==============================] - 93s 2s/step - loss: 0.5389 - accuracy: 0.7409 - val_loss: 0.5107 - val_accuracy: 0.7576\n",
      "Epoch 6/10\n",
      "60/60 [==============================] - 93s 2s/step - loss: 0.5131 - accuracy: 0.7626 - val_loss: 0.5382 - val_accuracy: 0.7187\n",
      "Epoch 7/10\n",
      "60/60 [==============================] - 92s 2s/step - loss: 0.5092 - accuracy: 0.7565 - val_loss: 0.5508 - val_accuracy: 0.7390\n",
      "Epoch 8/10\n",
      "60/60 [==============================] - 97s 2s/step - loss: 0.5311 - accuracy: 0.7460 - val_loss: 0.5164 - val_accuracy: 0.7508\n",
      "Epoch 9/10\n",
      "60/60 [==============================] - 96s 2s/step - loss: 0.5128 - accuracy: 0.7613 - val_loss: 0.5468 - val_accuracy: 0.7341\n",
      "Epoch 10/10\n",
      "60/60 [==============================] - 96s 2s/step - loss: 0.5013 - accuracy: 0.7595 - val_loss: 0.5075 - val_accuracy: 0.7606\n"
     ]
    }
   ],
   "source": [
    "from tensorflow.keras.callbacks import EarlyStopping\n",
    "\n",
    "model_small = initialize_model()\n",
    "model_small = compile_model(model_small)\n",
    "\n",
    "es = EarlyStopping(patience = 5, verbose = 2)\n",
    "\n",
    "history_small = model_small.fit(X_train, y_train,\n",
    "                    validation_split = 0.3,\n",
    "                    callbacks = [es],\n",
    "                    epochs = 10,\n",
    "                    batch_size = 64)"
   ]
  },
  {
   "cell_type": "code",
   "execution_count": 154,
   "metadata": {},
   "outputs": [
    {
     "name": "stdout",
     "output_type": "stream",
     "text": [
      "394/394 [==============================] - 76s 192ms/step - loss: 0.4870 - accuracy: 0.7744\n",
      "Test Loss: 0.48695632815361023\n",
      "Test Accuracy: 0.7744444608688354\n"
     ]
    }
   ],
   "source": [
    "# Evaluate the model on the test data\n",
    "test_loss, test_accuracy = model_small.evaluate(X_test, y_test)\n",
    "\n",
    "# Print the test results\n",
    "print(f'Test Loss: {test_loss}')\n",
    "print(f'Test Accuracy: {test_accuracy}')"
   ]
  },
  {
   "cell_type": "code",
   "execution_count": 155,
   "metadata": {
    "id": "kvFk4t3WuYec"
   },
   "outputs": [],
   "source": [
    "def plot_history(history, title='', axs=None, exp_name=\"\"):\n",
    "    if axs is not None:\n",
    "        ax1, ax2 = axs\n",
    "    else:\n",
    "        f, (ax1, ax2) = plt.subplots(1, 2, figsize=(12, 4))\n",
    "\n",
    "    if len(exp_name) > 0 and exp_name[0] != '_':\n",
    "        exp_name = '_' + exp_name\n",
    "    ax1.plot(history.history['loss'], label = 'train' + exp_name)\n",
    "    ax1.plot(history.history['val_loss'], label = 'val' + exp_name)\n",
    "    ax1.set_ylim(0., 2.2)\n",
    "    ax1.set_title('loss')\n",
    "    ax1.legend()\n",
    "\n",
    "    ax2.plot(history.history['accuracy'], label='train accuracy'  + exp_name)\n",
    "    ax2.plot(history.history['val_accuracy'], label='val accuracy'  + exp_name)\n",
    "    ax2.set_ylim(0.25, 1.)\n",
    "    ax2.set_title('Accuracy')\n",
    "    ax2.legend()\n",
    "    return (ax1, ax2)"
   ]
  },
  {
   "cell_type": "code",
   "execution_count": 156,
   "metadata": {
    "id": "dVRJBDS-uZIj"
   },
   "outputs": [
    {
     "data": {
      "image/png": "[encoded data removed]",
      "text/plain": [
       "<Figure size 1200x400 with 2 Axes>"
      ]
     },
     "metadata": {},
     "output_type": "display_data"
    }
   ],
   "source": [
    "plot_history(history_small)\n",
    "plt.show()"
   ]
  },
  {
   "cell_type": "code",
   "execution_count": 162,
   "metadata": {},
   "outputs": [
    {
     "name": "stderr",
     "output_type": "stream",
     "text": [
      "2023-11-29 16:01:43.213 \n",
      "  \u001b[33m\u001b[1mWarning:\u001b[0m to view this Streamlit app on a browser, run it with the following\n",
      "  command:\n",
      "\n",
      "    streamlit run /Users/ppellegrini/.pyenv/versions/3.10.6/envs/ML_vs_Cancer/lib/python3.10/site-packages/ipykernel_launcher.py [ARGUMENTS]\n"
     ]
    }
   ],
   "source": [
    "import streamlit as st\n",
    "\n",
    "uploaded_file = st.file_uploader(\"Choose an image...\", type=[\"tif\", \"tiff\"])\n",
    "\n",
    "if uploaded_file is not None:\n",
    "    # Read and convert the uploaded .tiff image to array using cv2.imread\n",
    "    image_array = cv2.imread(uploaded_file, cv2.IMREAD_UNCHANGED)\n",
    "\n",
    "    if image_array is not None:\n",
    "        st.image(image_array, caption='Uploaded Image', use_column_width=True)"
   ]
  }
 ],
 "metadata": {
  "accelerator": "GPU",
  "colab": {
   "gpuType": "T4",
   "provenance": []
  },
  "kernelspec": {
   "display_name": "Python 3 (ipykernel)",
   "language": "python",
   "name": "python3"
  },
  "language_info": {
   "codemirror_mode": {
    "name": "ipython",
    "version": 3
   },
   "file_extension": ".py",
   "mimetype": "text/x-python",
   "name": "python",
   "nbconvert_exporter": "python",
   "pygments_lexer": "ipython3",
   "version": "3.10.6"
  },
  "toc": {
   "base_numbering": 1,
   "nav_menu": {},
   "number_sections": true,
   "sideBar": true,
   "skip_h1_title": false,
   "title_cell": "Table of Contents",
   "title_sidebar": "Contents",
   "toc_cell": false,
   "toc_position": {},
   "toc_section_display": true,
   "toc_window_display": false
  }
 },
 "nbformat": 4,
 "nbformat_minor": 1
}
