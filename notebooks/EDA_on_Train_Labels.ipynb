{
  "nbformat": 4,
  "nbformat_minor": 5,
  "metadata": {
    "noteable-chatgpt": {
      "create_notebook": {
        "openai_conversation_id": "1d692bfb-fa38-5c96-b2fc-db7f67c4b0f0",
        "openai_ephemeral_user_id": "33662f0b-a0c5-5d7e-bc12-0ebfb52bb4c5",
        "openai_subdivision1_iso_code": "DE-BE"
      }
    },
    "kernel_info": {
      "name": "python3"
    },
    "kernelspec": {
      "display_name": "Python 3.9",
      "identifier": "legacy",
      "language": "python",
      "language_version": "3.9",
      "name": "python3"
    },
    "selected_hardware_size": "small"
  },
  "cells": [
    {
      "id": "1f9f37bc-294d-4c7f-912c-a5d864c549c0",
      "cell_type": "code",
      "metadata": {
        "noteable": {
          "cell_type": "code",
          "output_collection_id": "980bd164-ea86-4989-adf8-a885047cae00"
        },
        "ExecuteTime": {
          "end_time": "2023-11-27T11:11:05.953239+00:00",
          "start_time": "2023-11-27T11:11:05.373634+00:00"
        }
      },
      "execution_count": null,
      "source": "import pandas as pd\nimport matplotlib.pyplot as plt\nimport seaborn as sns",
      "outputs": []
    },
    {
      "id": "f81b3a97-ce89-4223-9768-34da107c6641",
      "cell_type": "code",
      "metadata": {
        "noteable": {
          "cell_type": "code",
          "output_collection_id": "b3813570-b252-48d2-a331-a16411dc0bc5"
        },
        "ExecuteTime": {
          "end_time": "2023-11-27T11:26:44.048938+00:00",
          "start_time": "2023-11-27T11:26:43.658350+00:00"
        },
        "datalink": {
          "20df8ed2-1e53-432b-a0ba-622c212cfaf7": {
            "applied_filters": [],
            "dataframe_info": {
              "default_index_used": true,
              "orig_num_cols": 2,
              "orig_num_rows": 5,
              "orig_size_bytes": 120,
              "truncated_num_cols": 2,
              "truncated_num_rows": 5,
              "truncated_size_bytes": 120,
              "truncated_string_columns": []
            },
            "display_id": "20df8ed2-1e53-432b-a0ba-622c212cfaf7",
            "dx_settings": {
              "ALLOW_NOTEABLE_ATTRS": true,
              "COLUMN_SAMPLING_METHOD": "outer",
              "DB_LOCATION": ":memory:",
              "DEV_MODE": false,
              "DISPLAY_MAX_COLUMNS": 100,
              "DISPLAY_MAX_ROWS": 50000,
              "DISPLAY_MODE": "simple",
              "ENABLE_ASSIGNMENT": true,
              "ENABLE_DATALINK": true,
              "FLATTEN_COLUMN_VALUES": true,
              "FLATTEN_INDEX_VALUES": false,
              "GENERATE_DEX_METADATA": false,
              "HTML_TABLE_SCHEMA": false,
              "LOG_LEVEL": 30,
              "MAX_RENDER_SIZE_BYTES": 104857600,
              "MAX_STRING_LENGTH": 250,
              "NUM_PAST_SAMPLES_TRACKED": 3,
              "RANDOM_STATE": 12648430,
              "RESET_INDEX_VALUES": false,
              "ROW_SAMPLING_METHOD": "random",
              "SAMPLING_FACTOR": 0.1,
              "SAMPLING_METHOD": "random",
              "STRINGIFY_COLUMN_VALUES": true,
              "STRINGIFY_INDEX_VALUES": false
            },
            "sample_history": [],
            "sampling_time": "2023-11-27T11:10:37.749709",
            "user_variable_name": null,
            "variable_name": "unk_dataframe_2506fee022e44661869ff84531c9da5a"
          }
        }
      },
      "execution_count": null,
      "source": "# Load the dataset\nfile_path = 'train_labels.csv'\ndata = pd.read_csv(file_path)\n\n# Display the first few rows of the dataset\ndata.head()",
      "outputs": []
    },
    {
      "id": "65efb22d-92e8-4b95-925f-494d111bc0b0",
      "cell_type": "code",
      "metadata": {
        "noteable": {
          "cell_type": "code",
          "output_collection_id": "01b62375-d29c-4f4d-ba43-8201e2d3d2cb"
        },
        "ExecuteTime": {
          "end_time": "2023-11-27T11:10:48.122626+00:00",
          "start_time": "2023-11-27T11:10:47.891368+00:00"
        },
        "datalink": {
          "f7a11434-0fb1-4e87-9cce-16b6547306d9": {
            "applied_filters": [],
            "dataframe_info": {
              "default_index_used": false,
              "orig_num_cols": 1,
              "orig_num_rows": 8,
              "orig_size_bytes": 128,
              "truncated_num_cols": 1,
              "truncated_num_rows": 8,
              "truncated_size_bytes": 128,
              "truncated_string_columns": []
            },
            "display_id": "f7a11434-0fb1-4e87-9cce-16b6547306d9",
            "dx_settings": {
              "ALLOW_NOTEABLE_ATTRS": true,
              "COLUMN_SAMPLING_METHOD": "outer",
              "DB_LOCATION": ":memory:",
              "DEV_MODE": false,
              "DISPLAY_MAX_COLUMNS": 100,
              "DISPLAY_MAX_ROWS": 50000,
              "DISPLAY_MODE": "simple",
              "ENABLE_ASSIGNMENT": true,
              "ENABLE_DATALINK": true,
              "FLATTEN_COLUMN_VALUES": true,
              "FLATTEN_INDEX_VALUES": false,
              "GENERATE_DEX_METADATA": false,
              "HTML_TABLE_SCHEMA": false,
              "LOG_LEVEL": 30,
              "MAX_RENDER_SIZE_BYTES": 104857600,
              "MAX_STRING_LENGTH": 250,
              "NUM_PAST_SAMPLES_TRACKED": 3,
              "RANDOM_STATE": 12648430,
              "RESET_INDEX_VALUES": false,
              "ROW_SAMPLING_METHOD": "random",
              "SAMPLING_FACTOR": 0.1,
              "SAMPLING_METHOD": "random",
              "STRINGIFY_COLUMN_VALUES": true,
              "STRINGIFY_INDEX_VALUES": false
            },
            "sample_history": [],
            "sampling_time": "2023-11-27T11:10:47.964970",
            "user_variable_name": null,
            "variable_name": "unk_dataframe_3e537809cc25438bab4caf91b2f50b44"
          }
        }
      },
      "execution_count": null,
      "source": "# Basic statistics of the dataset\ndata.describe()",
      "outputs": []
    },
    {
      "id": "02c25ded-21b5-4087-9fcb-504b7fb58318",
      "cell_type": "code",
      "metadata": {
        "noteable": {
          "cell_type": "code",
          "output_collection_id": "2e646005-b5cf-4fe8-92ac-88cc11589d18"
        },
        "ExecuteTime": {
          "end_time": "2023-11-27T11:20:33.646241+00:00",
          "start_time": "2023-11-27T11:20:33.415721+00:00"
        },
        "datalink": {
          "d34dec48-ad38-47ae-9c40-30786bf02b8b": {
            "applied_filters": [],
            "dataframe_info": {
              "default_index_used": true,
              "orig_num_cols": 1,
              "orig_num_rows": 2,
              "orig_size_bytes": 32,
              "truncated_num_cols": 1,
              "truncated_num_rows": 2,
              "truncated_size_bytes": 32,
              "truncated_string_columns": []
            },
            "display_id": "d34dec48-ad38-47ae-9c40-30786bf02b8b",
            "dx_settings": {
              "ALLOW_NOTEABLE_ATTRS": true,
              "COLUMN_SAMPLING_METHOD": "outer",
              "DB_LOCATION": ":memory:",
              "DEV_MODE": false,
              "DISPLAY_MAX_COLUMNS": 100,
              "DISPLAY_MAX_ROWS": 50000,
              "DISPLAY_MODE": "simple",
              "ENABLE_ASSIGNMENT": true,
              "ENABLE_DATALINK": true,
              "FLATTEN_COLUMN_VALUES": true,
              "FLATTEN_INDEX_VALUES": false,
              "GENERATE_DEX_METADATA": false,
              "HTML_TABLE_SCHEMA": false,
              "LOG_LEVEL": 30,
              "MAX_RENDER_SIZE_BYTES": 104857600,
              "MAX_STRING_LENGTH": 250,
              "NUM_PAST_SAMPLES_TRACKED": 3,
              "RANDOM_STATE": 12648430,
              "RESET_INDEX_VALUES": false,
              "ROW_SAMPLING_METHOD": "random",
              "SAMPLING_FACTOR": 0.1,
              "SAMPLING_METHOD": "random",
              "STRINGIFY_COLUMN_VALUES": true,
              "STRINGIFY_INDEX_VALUES": false
            },
            "sample_history": [],
            "sampling_time": "2023-11-27T11:20:33.488659",
            "user_variable_name": "label_counts",
            "variable_name": "label_counts"
          }
        }
      },
      "execution_count": null,
      "source": "# Count of each label\nlabel_counts = data['label'].value_counts()\n\n# Display the count of each label\nlabel_counts",
      "outputs": []
    },
    {
      "id": "2a59bdc0-d176-4bf6-9a49-e50c54745082",
      "cell_type": "code",
      "metadata": {
        "noteable": {
          "cell_type": "code",
          "output_collection_id": "f3e706a9-50d6-4098-9f82-a0e8e7c0f61b"
        },
        "ExecuteTime": {
          "end_time": "2023-11-27T11:23:20.058713+00:00",
          "start_time": "2023-11-27T11:23:19.820721+00:00"
        }
      },
      "execution_count": null,
      "source": "# Pie chart of label distribution with labels\nlabels = ['Non-Malignant (0)', 'Malignant (1)']\nplt.figure(figsize=(8, 8))\nplt.pie(label_counts, labels = labels, autopct='%1.1f%%', startangle=140)\nplt.title('Pie Chart of Label Distribution')\nplt.show()",
      "outputs": []
    },
    {
      "id": "12259bfd-2b25-4e00-be22-cf150fe874a6",
      "cell_type": "code",
      "metadata": {
        "noteable": {
          "cell_type": "code",
          "output_collection_id": "1256cfa6-0ed9-4a06-9933-57960c181db4"
        },
        "ExecuteTime": {
          "end_time": "2023-11-27T11:28:06.151300+00:00",
          "start_time": "2023-11-27T11:28:05.933857+00:00"
        }
      },
      "execution_count": null,
      "source": "# Check for duplicates\nprint('Number of duplicate rows:', data.duplicated().sum())\n\n# Check for missing values\nmissing_values = data.isnull().sum()\nprint('Missing values in each column:\\n', missing_values)",
      "outputs": []
    }
  ]
}